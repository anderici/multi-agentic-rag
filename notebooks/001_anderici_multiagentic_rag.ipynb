{
 "cells": [
  {
   "cell_type": "markdown",
   "id": "0afbae69",
   "metadata": {},
   "source": [
    "# Imports and Functions"
   ]
  },
  {
   "cell_type": "code",
   "execution_count": 1,
   "id": "05b171ba",
   "metadata": {},
   "outputs": [],
   "source": [
    "import sys\n",
    "import os\n",
    "import PyPDF2\n",
    "from openai import OpenAI\n",
    "\n",
    "sys.path.append(os.path.abspath(os.path.join('..', 'src')))\n",
    "\n",
    "from graph import build_rag_graph"
   ]
  },
  {
   "cell_type": "code",
   "execution_count": 2,
   "id": "caa7c7a9",
   "metadata": {},
   "outputs": [],
   "source": [
    "def pdf_to_string(path):\n",
    "    text = \"\"\n",
    "    with open(path, 'rb') as pdf_file:\n",
    "        reader = PyPDF2.PdfReader(pdf_file)\n",
    "        for page in reader.pages:\n",
    "            text += page.extract_text() + \"\\n\"\n",
    "    return text"
   ]
  },
  {
   "cell_type": "markdown",
   "id": "1aeb57d8",
   "metadata": {},
   "source": [
    "# Multi-agent in-context RAG"
   ]
  },
  {
   "cell_type": "markdown",
   "id": "1c2b9de7",
   "metadata": {},
   "source": [
    "## KB definition"
   ]
  },
  {
   "cell_type": "code",
   "execution_count": 3,
   "id": "5ffe829a",
   "metadata": {},
   "outputs": [],
   "source": [
    "# Here, I'm extracting the KB from a PDF file, but you can read it from an S3 bucket, for example\n",
    "\n",
    "KB = pdf_to_string('../data/1q25-earnings-transcript.pdf')"
   ]
  },
  {
   "cell_type": "code",
   "execution_count": 4,
   "id": "65498ebf",
   "metadata": {},
   "outputs": [
    {
     "name": "stdout",
     "output_type": "stream",
     "text": [
      "   \n",
      " \n",
      "1Q25 FINANCIAL RESULTS \n",
      "EARNINGS CALL TRANSCRIPT \n",
      "April 11, 2025  \n",
      " \n",
      " \n",
      " \n",
      " \n",
      " \n",
      " \n",
      " \n",
      " \n",
      " NOVEMBER 2024  \n",
      " \n",
      " \n",
      "  \n",
      " \n",
      " \n",
      " \n",
      "  1 \n",
      "MANAGEMENT DISCUSSION SECTION \n",
      "........................................................................................................................................................................................................................................................................................ \n",
      "Operator : Good morning, ladies and gentlemen. Welcome to JPMorganChase's First-Quarter 2025 Earnings Call. This call is being recorded. \n",
      "Your line will be muted f\n"
     ]
    }
   ],
   "source": [
    "print(KB[:600])"
   ]
  },
  {
   "cell_type": "markdown",
   "id": "7ddd04ae",
   "metadata": {},
   "source": [
    "## Compiling the multiagent graph"
   ]
  },
  {
   "cell_type": "code",
   "execution_count": 5,
   "id": "91cb6e37",
   "metadata": {},
   "outputs": [
    {
     "data": {
      "image/png": "[encoded data removed]",
      "text/plain": [
       "<langgraph.graph.state.CompiledStateGraph object at 0x0000017306025450>"
      ]
     },
     "execution_count": 5,
     "metadata": {},
     "output_type": "execute_result"
    }
   ],
   "source": [
    "rag_graph = build_rag_graph()\n",
    "rag_graph"
   ]
  },
  {
   "cell_type": "markdown",
   "id": "000dc387",
   "metadata": {},
   "source": [
    "## Inference using the multiagents"
   ]
  },
  {
   "cell_type": "code",
   "execution_count": 6,
   "id": "174398ea",
   "metadata": {},
   "outputs": [
    {
     "data": {
      "text/plain": [
       "\"I'm sorry, but I don't have information on JPMorgan's revenue for the first quarter of 2025. For the most recent and accurate financial data, please refer to JPMorgan's official earnings reports or their investor relations website.\""
      ]
     },
     "execution_count": 6,
     "metadata": {},
     "output_type": "execute_result"
    }
   ],
   "source": [
    "# Let's try to use GPT to ask about JPMorgan's results of first quarter of 2025\n",
    "\n",
    "client = OpenAI(api_key=os.getenv('OPENAI_KEY'))\n",
    "\n",
    "def chat_completion(prompt, system_message=\"You are a helpful assistant.\", model=\"gpt-4-1106-preview\"):\n",
    "    response = client.chat.completions.create(\n",
    "        model=\"gpt-4.1-nano-2025-04-14\",\n",
    "        messages=[\n",
    "            {\"role\": \"system\", \"content\": system_message},\n",
    "            {\"role\": \"user\", \"content\": prompt}\n",
    "        ],\n",
    "        temperature=0\n",
    "    )\n",
    "    return response.choices[0].message.content.strip()\n",
    "\n",
    "prompt = \"What is JPMorgan's revenue for first quarter 2025?\"\n",
    "\n",
    "chat_completion(prompt)"
   ]
  },
  {
   "cell_type": "markdown",
   "id": "50316ebb",
   "metadata": {},
   "source": [
    "Notice that GPT can't answer the question because it doesn't have the information!\n",
    "\n",
    "Let's try with our multi-agentic RAG!"
   ]
  },
  {
   "cell_type": "code",
   "execution_count": 7,
   "id": "aba929fd",
   "metadata": {},
   "outputs": [
    {
     "name": "stdout",
     "output_type": "stream",
     "text": [
      "JPMorgan's revenue for the first quarter of 2025 is reported to be $46 billion.\n"
     ]
    }
   ],
   "source": [
    "question = \"What is JPMorgan's revenue for first quarter 2025?\"\n",
    "\n",
    "# Passing the question and the KB as state to the graph\n",
    "state = {\n",
    "    \"question\": question,\n",
    "    \"kb\": KB\n",
    "}\n",
    "\n",
    "output = rag_graph.invoke(state)\n",
    "\n",
    "print(output['answer'])"
   ]
  },
  {
   "cell_type": "markdown",
   "id": "7277005f",
   "metadata": {},
   "source": [
    "Cool!! Now, the multiagents were able to search for chunks on the knowledge base and write a correct response!!\n",
    "\n",
    "Let's try other questions."
   ]
  },
  {
   "cell_type": "code",
   "execution_count": 8,
   "id": "884d4a37",
   "metadata": {},
   "outputs": [
    {
     "name": "stdout",
     "output_type": "stream",
     "text": [
      "Yes, JPMorgan's expenses grew in the first quarter of 2025. The expenses increased by $840 million, which represents a 4% rise compared to the previous period.\n"
     ]
    }
   ],
   "source": [
    "question = \"Did JPMorgan's expenses grew for first quarter 2025? If yes, how much?\"\n",
    "\n",
    "# Passing the question and the KB as state to the graph\n",
    "state = {\n",
    "    \"question\": question,\n",
    "    \"kb\": KB\n",
    "}\n",
    "\n",
    "output = rag_graph.invoke(state)\n",
    "\n",
    "print(output['answer'])"
   ]
  },
  {
   "cell_type": "code",
   "execution_count": 9,
   "id": "0f54f9a9",
   "metadata": {},
   "outputs": [
    {
     "name": "stdout",
     "output_type": "stream",
     "text": [
      "Yes, JPMorgan's Securities Services experienced growth in the first quarter of 2025. Specifically, the revenue from Securities Services increased by 7% year-on-year, driven by fee growth and higher deposit balances, although this was partially offset by deposit margin compression.\n"
     ]
    }
   ],
   "source": [
    "question = \"Did JPMorgan's securities services grew for first quarter 2025? If yes, how much?\"\n",
    "\n",
    "# Passing the question and the KB as state to the graph\n",
    "state = {\n",
    "    \"question\": question,\n",
    "    \"kb\": KB\n",
    "}\n",
    "\n",
    "output = rag_graph.invoke(state)\n",
    "\n",
    "print(output['answer'])"
   ]
  },
  {
   "cell_type": "markdown",
   "id": "a4826dc3",
   "metadata": {},
   "source": [
    "Answered correctly all the questions!"
   ]
  },
  {
   "cell_type": "code",
   "execution_count": null,
   "id": "cb3f2928",
   "metadata": {},
   "outputs": [],
   "source": []
  }
 ],
 "metadata": {
  "kernelspec": {
   "display_name": "rag_env",
   "language": "python",
   "name": "python3"
  },
  "language_info": {
   "codemirror_mode": {
    "name": "ipython",
    "version": 3
   },
   "file_extension": ".py",
   "mimetype": "text/x-python",
   "name": "python",
   "nbconvert_exporter": "python",
   "pygments_lexer": "ipython3",
   "version": "3.10.11"
  }
 },
 "nbformat": 4,
 "nbformat_minor": 5
}
